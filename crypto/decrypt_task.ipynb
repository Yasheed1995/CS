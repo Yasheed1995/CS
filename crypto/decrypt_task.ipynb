{
 "cells": [
  {
   "cell_type": "code",
   "execution_count": 10,
   "metadata": {},
   "outputs": [],
   "source": [
    "import hashlib, sys, binascii, struct"
   ]
  },
  {
   "cell_type": "code",
   "execution_count": 11,
   "metadata": {},
   "outputs": [
    {
     "name": "stdout",
     "output_type": "stream",
     "text": [
      "26740517332041460224553968671632666771614693734373273592404401352222515520291819055038182643520741338258065428538587242700838530706476832610357951571117929285029379836337930908010927362011470595086212412881624618327234195166546977694969890701468557795063194215890227299076371437235876247180711716816424870609418845037062819272701694603163208829146082231983423884643971134337359365028633111088282860399041220818961119911255364446986757891201300617764416562309310163172200797713908197621832084706291502222342244754722043879065451414435028504134881577018017649435516419930045606422459877949012459398135809917149866205269\n",
      "775419755064226321163945668447210650724375217577577616292599047955675919270421669017415770151917947127193483264792045927746364380815233151893221243170385049230302200830899914745858418025747942452951009215403580867110188691204385947995051825326631001984307606778007077023681184176175578591895133748310572500530003348378676460655268336522747356589137287622889247642253639007414452239079296937890482334396946996749258014694605308390236829284095587020952869513525732062942545266686800420641350534522652715333376376470397056122608397111296627982564176571720132931342301447076459465728832789961049277758070424626517137731333178374085450421561028835433789753247772435484992779801894043078619498480029909958672488961221447755087670013272396445234675673265613622746627072267883535713505597757570671545288767000945691478116090595362263622495847226210086453043043774860384176896947123265222807034920994642908994649963924503131214290238143648636735835827386951688975869134696714537782384242953823675185514746897972748986518553647832584023037740620145268629267504400279945948913411391941873254718453399941061796576525685176724924548540138688021869620415928967829973725630757111345306399661361628852237332521491313565546523974242199803542888810991\n"
     ]
    }
   ],
   "source": [
    "a = int('''\n",
    "d3d36115599d53eeb0413c3a818e120bc1ce4cc9bca9e7b23a695a150c056c4a\n",
    "6ca2e3ce99efe8a0f4385e86e8897d2e47bd25a45e723b768af040e2b6d73beb\n",
    "193fb86aae849513463e3a794768ab865b4b82bd5df627e83afdfc0ee00bc983\n",
    "2e6c38e53d2812a344ff34008198e142e642c95a449a762d7fd30df018fa5fe6\n",
    "53c882a192d011594a29a0926fe841473622a61e41ac0f675f5fda76a27561ff\n",
    "c7c90c6d85464f23fab9e88bfca8ed5a0f2e0e11c0a0f4521e1919194e868d18\n",
    "c0d33f5fdc0cb95793ca96f7b8a7127cb9ae6acde7e158bcf718cf30ea69933e\n",
    "f6cdefa6f9383f8c9735f9510f70f228d299479a257c1a2d3c10d1f47cc1a055\n",
    "'''.replace('\\n', ''), 16)\n",
    "b = int('''\n",
    "e5b537e60922d57a763918a5b1e8af1bc07c85fefea11e8179f2a9ee6cf7c611\n",
    "7d0eba7963617035cf1ddb1f0cc858d70890a76990f96adb29ea8b0403f869cd\n",
    "be51b76f06c25a9319ecd04366f846338fc1f81ae05f143940039bfbbc4de953\n",
    "b933c89e74fe62485157d7a3b31993915808a4b95bb768f369818c10edfa561e\n",
    "3530c999c33ef62a4466ec67622cc12525cf0ea3d402931d16ef115acc172641\n",
    "a63037190ba04931d3caa2ef861ee7f277647844f8a7f94569f06cea32badb02\n",
    "82355467cec0bdbdff5e7cd837ffce048925280ab92a9560c1cd6bd309239d7e\n",
    "72b298af5ad81d27ee9adf7143185815bdadfa21296833149748ed2f55343533\n",
    "'''.replace('\\n', ''), 16) * a\n",
    "print (a)\n",
    "print (b)"
   ]
  },
  {
   "cell_type": "code",
   "execution_count": 12,
   "metadata": {},
   "outputs": [],
   "source": [
    "p = int('''\n",
    "e5b537e60922d57a763918a5b1e8af1bc07c85fefea11e8179f2a9ee6cf7c611\n",
    "7d0eba7963617035cf1ddb1f0cc858d70890a76990f96adb29ea8b0403f869cd\n",
    "be51b76f06c25a9319ecd04366f846338fc1f81ae05f143940039bfbbc4de953\n",
    "b933c89e74fe62485157d7a3b31993915808a4b95bb768f369818c10edfa561e\n",
    "3530c999c33ef62a4466ec67622cc12525cf0ea3d402931d16ef115acc172641\n",
    "a63037190ba04931d3caa2ef861ee7f277647844f8a7f94569f06cea32badb02\n",
    "82355467cec0bdbdff5e7cd837ffce048925280ab92a9560c1cd6bd309239d7e\n",
    "72b298af5ad81d27ee9adf7143185815bdadfa21296833149748ed2f55343533\n",
    "'''.replace('\\n', ''), 16)\n",
    "q = a\n",
    "r = (p-1) * (q-1)"
   ]
  },
  {
   "cell_type": "code",
   "execution_count": 13,
   "metadata": {},
   "outputs": [
    {
     "name": "stdout",
     "output_type": "stream",
     "text": [
      "b'bc69f315c01224ca6778d124281a31f5ffaf7e97ef666f349fb6c6d390e1bd2b4ece1d956c577f57920ff9a082b6855ea9a99914f21491b4012cad5aecb93c44c0b1cabd5a7573b53fb6b4a3b7025a19a40c8ced23b93d4d80f189f2c9e94360cd41bc81dba40b782011adcd4359d4ef1af2d6d71a8c1352090d0b95b84d11e6c619c27a45db86b76aeb4fa3b4fff12783e20a40fe25bab19ea9221a0c08d9609b0df26bd6ab5c4b0a26a269407bbdbc630c4e2609c1980cb0ab545097325f7ee2a37bbdfc3f08b166e50cbe89daabc197385a0d7b59e5b5e1ebb4ebff499959995611f14faec3531defbbce4c39cd0750fc46699850b82adcc11f31de7172e71d45ab686016f181b82c4275ea024d2c68bb073cd0121857cad4cf4846c474eaa4b970ec1c0280cf6ffc7d6baab06338edef2b00e4201a22798d07ade14fdb181959db018acab1cc5ff742d66bb6144e2e568491715c19a985e9592dcdcf93ca4793a61becb8ead82110b7db361bd2ed11c19c9d6dc30c2d5925cdd7c3a688c54ceb08129fcabdf4ac51fcfaeb24647d09c1dff6e427f51b90c9d40902e0f0c2b28e0dc8f1d382f1bc282629fb082321651019a62d9341e9c4be1c415cbd8397fdca24617d48127d2f21b9d29800c25876beff87dc6cf6677856e4e8787d8bdb6219c9a746c64ef18236f12a9137511e84c1df56a98d7e030037579b3f34522d'\n"
     ]
    }
   ],
   "source": [
    "A = b'''\n",
    "bc69f315c01224ca6778d124281a31f5ffaf7e97ef666f349fb6c6d390e1bd2b\n",
    "4ece1d956c577f57920ff9a082b6855ea9a99914f21491b4012cad5aecb93c44\n",
    "c0b1cabd5a7573b53fb6b4a3b7025a19a40c8ced23b93d4d80f189f2c9e94360\n",
    "cd41bc81dba40b782011adcd4359d4ef1af2d6d71a8c1352090d0b95b84d11e6\n",
    "c619c27a45db86b76aeb4fa3b4fff12783e20a40fe25bab19ea9221a0c08d960\n",
    "9b0df26bd6ab5c4b0a26a269407bbdbc630c4e2609c1980cb0ab545097325f7e\n",
    "e2a37bbdfc3f08b166e50cbe89daabc197385a0d7b59e5b5e1ebb4ebff499959\n",
    "995611f14faec3531defbbce4c39cd0750fc46699850b82adcc11f31de7172e7\n",
    "1d45ab686016f181b82c4275ea024d2c68bb073cd0121857cad4cf4846c474ea\n",
    "a4b970ec1c0280cf6ffc7d6baab06338edef2b00e4201a22798d07ade14fdb18\n",
    "1959db018acab1cc5ff742d66bb6144e2e568491715c19a985e9592dcdcf93ca\n",
    "4793a61becb8ead82110b7db361bd2ed11c19c9d6dc30c2d5925cdd7c3a688c5\n",
    "4ceb08129fcabdf4ac51fcfaeb24647d09c1dff6e427f51b90c9d40902e0f0c2\n",
    "b28e0dc8f1d382f1bc282629fb082321651019a62d9341e9c4be1c415cbd8397\n",
    "fdca24617d48127d2f21b9d29800c25876beff87dc6cf6677856e4e8787d8bdb\n",
    "6219c9a746c64ef18236f12a9137511e84c1df56a98d7e030037579b3f34522d\n",
    "'''.replace(b'\\n', b'')\n",
    "print (A)"
   ]
  },
  {
   "cell_type": "code",
   "execution_count": 14,
   "metadata": {},
   "outputs": [],
   "source": [
    "A1 = binascii.a2b_hex(A)\n",
    "A2 = list(A1)"
   ]
  },
  {
   "cell_type": "code",
   "execution_count": 15,
   "metadata": {},
   "outputs": [],
   "source": [
    "def decrypt(m):\n",
    "    a = int('''\n",
    "d3d36115599d53eeb0413c3a818e120bc1ce4cc9bca9e7b23a695a150c056c4a\n",
    "6ca2e3ce99efe8a0f4385e86e8897d2e47bd25a45e723b768af040e2b6d73beb\n",
    "193fb86aae849513463e3a794768ab865b4b82bd5df627e83afdfc0ee00bc983\n",
    "2e6c38e53d2812a344ff34008198e142e642c95a449a762d7fd30df018fa5fe6\n",
    "53c882a192d011594a29a0926fe841473622a61e41ac0f675f5fda76a27561ff\n",
    "c7c90c6d85464f23fab9e88bfca8ed5a0f2e0e11c0a0f4521e1919194e868d18\n",
    "c0d33f5fdc0cb95793ca96f7b8a7127cb9ae6acde7e158bcf718cf30ea69933e\n",
    "f6cdefa6f9383f8c9735f9510f70f228d299479a257c1a2d3c10d1f47cc1a055\n",
    "    '''.replace('\\n', ''), 16)\n",
    "    K = hex(a).encode('ascii')\n",
    "    k = struct.unpack(\"<4L\", K[:16])\n",
    "    for i in range(0, len(m), 8):\n",
    "        v0, v1 = struct.unpack(\"<2L\", bytes(m[i:i+8]))\n",
    "        sum, delta, mask = 3337565984, 0x9e3779b9, 0xffffffff\n",
    "        for round in range(32):\n",
    "            v1 = (v1 - (((v0 << 4 ^ v0 >> 5) + v0) ^ (sum + k[sum >> 11 & 3])) ) & mask\n",
    "            sum = (sum - delta) & mask\n",
    "            v0 = (v0 - (((v1 << 4 ^ v1 >> 5) + v1) ^ (sum + k[sum & 3]))) & mask\n",
    "        e = struct.pack(\"<2L\", v0, v1)\n",
    "        for j in range(8):\n",
    "            m[i+j] = e[j]\n",
    "    return m"
   ]
  },
  {
   "cell_type": "code",
   "execution_count": 16,
   "metadata": {},
   "outputs": [],
   "source": [
    "A3 = decrypt(A2)"
   ]
  },
  {
   "cell_type": "code",
   "execution_count": 17,
   "metadata": {},
   "outputs": [],
   "source": [
    "K = hex(a).encode('ascii')\n",
    "S = list(range(256))\n",
    "j = 0"
   ]
  },
  {
   "cell_type": "code",
   "execution_count": 18,
   "metadata": {},
   "outputs": [],
   "source": [
    "for i in range(256):\n",
    "    j = (j + S[i] + K[i % len(K)]) % 256\n",
    "    S[i], S[j] = S[j], S[i]\n",
    "\n",
    "j = 0\n",
    "for k in range(len(A3)):\n",
    "    i = (k + 1) % 256\n",
    "    j = (j + S[i]) % 256\n",
    "    S[i], S[j] = S[j], S[i]\n",
    "    A3[k] ^= S[(S[i] + S[j]) % 256]"
   ]
  },
  {
   "cell_type": "code",
   "execution_count": 19,
   "metadata": {},
   "outputs": [],
   "source": [
    "m = binascii.b2a_hex(bytes(A3))"
   ]
  },
  {
   "cell_type": "code",
   "execution_count": 20,
   "metadata": {},
   "outputs": [],
   "source": [
    "m = str(m)[2:-1]"
   ]
  },
  {
   "cell_type": "code",
   "execution_count": 21,
   "metadata": {},
   "outputs": [],
   "source": [
    "m = int(m, 16)"
   ]
  },
  {
   "cell_type": "code",
   "execution_count": 22,
   "metadata": {},
   "outputs": [],
   "source": [
    "def egcd(a, b):\n",
    "    if a == 0:\n",
    "        return (b, 0, 1)\n",
    "    else:\n",
    "        g, y, x = egcd(b % a, a)\n",
    "        return (g, x - (b // a) * y, y)\n",
    "\n",
    "def modinv(a, m):\n",
    "    g, x, y = egcd(a, m)\n",
    "    if g != 1:\n",
    "        raise Exception('modular inverse does not exist')\n",
    "    else:\n",
    "        return x % m\n",
    "\n",
    "d = modinv(65537, r)"
   ]
  },
  {
   "cell_type": "code",
   "execution_count": 23,
   "metadata": {},
   "outputs": [],
   "source": [
    "m0 = pow(m, d, b)\n",
    "assert(m0 < b)"
   ]
  },
  {
   "cell_type": "code",
   "execution_count": 24,
   "metadata": {},
   "outputs": [],
   "source": [
    "message = hex(m0)[2:]"
   ]
  },
  {
   "cell_type": "code",
   "execution_count": 25,
   "metadata": {},
   "outputs": [
    {
     "name": "stdout",
     "output_type": "stream",
     "text": [
      "8fa14cdd754f91cc6554c9e71929cce7\n",
      "2db95e8e1a9267b7a1188556b2013b33\n",
      "0cc175b9c0f1b6a831c399e269772661\n",
      "b2f5ff47436671b6e533d8dc3614845d\n",
      "f95b70fdc3088560732a5ac135644506\n",
      "2510c39011c5be704182423e3a695e91\n",
      "d95679752134a2d9eb61dbd7b91c4bcc\n",
      "f1290186a5d0b1ceab27f4e77c0c5d68\n",
      "c81e728d9d4c2f636f067f89cc14862c\n",
      "8277e0910d750195b448797616e091ad\n",
      "e1671797c52e15f763380b45e841ec32\n",
      "4a8a08f09d37b73795649038408b5f33\n",
      "4b43b0aee35624cd95b910189b3dc231\n",
      "415290769594460e2e485922904f345d\n",
      "83878c91171338902e0fe0fb97a8c47a\n",
      "e358efa489f58062f10dd7316b65649e\n",
      "cbb184dd8e05c9709e5dcaedaa0495cf\n"
     ]
    }
   ],
   "source": [
    "for i in range(len(message)//32):\n",
    "    print(message[32*i:32*(i+1)])"
   ]
  },
  {
   "cell_type": "code",
   "execution_count": 26,
   "metadata": {},
   "outputs": [
    {
     "ename": "SyntaxError",
     "evalue": "invalid syntax (<ipython-input-26-c2702f86a883>, line 1)",
     "output_type": "error",
     "traceback": [
      "\u001b[0;36m  File \u001b[0;32m\"<ipython-input-26-c2702f86a883>\"\u001b[0;36m, line \u001b[0;32m1\u001b[0m\n\u001b[0;31m    flag{how2decrypt}\u001b[0m\n\u001b[0m        ^\u001b[0m\n\u001b[0;31mSyntaxError\u001b[0m\u001b[0;31m:\u001b[0m invalid syntax\n"
     ]
    }
   ],
   "source": [
    "llllflag{how2decrypt}"
   ]
  },
  {
   "cell_type": "code",
   "execution_count": null,
   "metadata": {},
   "outputs": [],
   "source": []
  }
 ],
 "metadata": {
  "kernelspec": {
   "display_name": "Python 3",
   "language": "python",
   "name": "python3"
  },
  "language_info": {
   "codemirror_mode": {
    "name": "ipython",
    "version": 3
   },
   "file_extension": ".py",
   "mimetype": "text/x-python",
   "name": "python",
   "nbconvert_exporter": "python",
   "pygments_lexer": "ipython3",
   "version": "3.7.0"
  }
 },
 "nbformat": 4,
 "nbformat_minor": 2
}
